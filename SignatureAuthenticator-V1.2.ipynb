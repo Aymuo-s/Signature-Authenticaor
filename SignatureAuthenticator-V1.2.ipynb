{
 "cells": [
  {
   "cell_type": "code",
   "execution_count": 1,
   "metadata": {},
   "outputs": [
    {
     "name": "stderr",
     "output_type": "stream",
     "text": [
      "Using Theano backend.\n",
      "WARNING (theano.configdefaults): g++ not available, if using conda: `conda install m2w64-toolchain`\n",
      "C:\\Users\\SOUMYA\\Anaconda3\\envs\\summer_project\\lib\\site-packages\\theano\\configdefaults.py:560: UserWarning: DeprecationWarning: there is no c++ compiler.This is deprecated and with Theano 0.11 a c++ compiler will be mandatory\n",
      "  warnings.warn(\"DeprecationWarning: there is no c++ compiler.\"\n",
      "WARNING (theano.configdefaults): g++ not detected ! Theano will be unable to execute optimized C-implementations (for both CPU and GPU) and will default to Python implementations. Performance will be severely degraded. To remove this warning, set Theano flags cxx to an empty string.\n",
      "C:\\Users\\SOUMYA\\Anaconda3\\envs\\summer_project\\lib\\site-packages\\scipy\\__init__.py:115: UserWarning: Numpy 1.13.3 or above is required for this version of scipy (detected version 1.11.3)\n",
      "  UserWarning)\n",
      "WARNING (theano.tensor.blas): Using NumPy C-API based implementation for BLAS functions.\n"
     ]
    }
   ],
   "source": [
    "import os\n",
    "import cv2\n",
    "import numpy as np\n",
    "import os\n",
    "from random import shuffle\n",
    "from keras.layers import Conv2D, Dense, Flatten,MaxPooling2D,Dropout\n",
    "from keras.models import Sequential, load_model\n",
    "from keras.optimizers import Adam"
   ]
  },
  {
   "cell_type": "code",
   "execution_count": 2,
   "metadata": {},
   "outputs": [],
   "source": [
    "TRAIN_AUTH_DIR = r'dataset\\train\\authentic'\n",
    "TRAIN_FORG_DIR = r'dataset\\train\\forged'\n",
    "\n",
    "TEST_DIR = r'dataset\\test'\n",
    "IMG_ROW, IMG_COL = 159, 118"
   ]
  },
  {
   "cell_type": "code",
   "execution_count": 3,
   "metadata": {},
   "outputs": [
    {
     "name": "stdout",
     "output_type": "stream",
     "text": [
      "Found numpy data on drive. Loaded.\n",
      "You may proceed!\n"
     ]
    }
   ],
   "source": [
    "def create_train_data():\n",
    "    training_data = []\n",
    "    for img in os.listdir(TRAIN_AUTH_DIR):\n",
    "        if img[0] != '.' : \n",
    "            path = os.path.join(TRAIN_AUTH_DIR, img)\n",
    "            img_data = cv2.imread(path, cv2.IMREAD_GRAYSCALE)\n",
    "            img_data = cv2.divide(img_data, 255)\n",
    "            img_data = cv2.resize(img_data, (IMG_ROW, IMG_COL))\n",
    "            training_data.append([np.array(img_data), 1])\n",
    "    for img in os.listdir(TRAIN_FORG_DIR):\n",
    "        if img[0] != '.' : \n",
    "            path = os.path.join(TRAIN_FORG_DIR, img)\n",
    "            img_data = cv2.imread(path, cv2.IMREAD_GRAYSCALE)\n",
    "            img_data = cv2.divide(img_data, 255)\n",
    "            img_data = cv2.resize(img_data, (IMG_ROW, IMG_COL))\n",
    "            training_data.append([np.array(img_data), 0])\n",
    "    \n",
    "    shuffle(training_data)\n",
    "    np.save('metadata/train_data.npy', training_data)\n",
    "    return training_data\n",
    "\n",
    "imgname = []\n",
    "def create_test_data():\n",
    "    testing_data = []\n",
    "    for img in os.listdir(TEST_DIR):\n",
    "        if img[0] != '.' :\n",
    "            path = os.path.join(TEST_DIR, img)\n",
    "            imgname.append(img)\n",
    "            img_data = cv2.imread(path, cv2.IMREAD_GRAYSCALE)\n",
    "            img_data = cv2.divide(img_data, 255)\n",
    "            img_data = cv2.resize(img_data, (IMG_ROW, IMG_COL))\n",
    "            testing_data.append(np.array(img_data))\n",
    "\n",
    "    #shuffle(testing_data)\n",
    "    np.save('metadata/test_data.npy', testing_data)\n",
    "    return testing_data\n",
    "\n",
    "\n",
    "train_file = r'metadata/train_data.npy'\n",
    "test_file = r'metadata/test_data.npy'\n",
    "\n",
    "if os.path.exists(train_file) and os.path.exists(test_file):\n",
    "    train_data = np.load(train_file, allow_pickle=True)\n",
    "    test_data = np.load(test_file, allow_pickle=True)\n",
    "    for img in os.listdir(TEST_DIR):\n",
    "        if img[0] != '.' :\n",
    "            imgname.append(img)\n",
    "    print('Found numpy data on drive. Loaded.')\n",
    "    \n",
    "else:\n",
    "    print('Creating numpy data.')\n",
    "    train_data = create_train_data()\n",
    "    test_data = create_test_data()\n",
    "    print('Numpy data created.')\n",
    "    \n",
    "print('You may proceed!')"
   ]
  },
  {
   "cell_type": "code",
   "execution_count": 4,
   "metadata": {},
   "outputs": [
    {
     "name": "stderr",
     "output_type": "stream",
     "text": [
      "C:\\Users\\SOUMYA\\Anaconda3\\envs\\summer_project\\lib\\site-packages\\theano\\tensor\\nnet\\conv.py:98: UserWarning: theano.tensor.nnet.conv.conv2d is deprecated. Use theano.tensor.nnet.conv2d instead.\n",
      "  warnings.warn(\"theano.tensor.nnet.conv.conv2d is deprecated.\"\n"
     ]
    },
    {
     "name": "stdout",
     "output_type": "stream",
     "text": [
      "Found saved model on drive. Loaded.\n",
      "You may proceed!\n"
     ]
    }
   ],
   "source": [
    "X_train = np.array([x[0] for x in train_data]).reshape(-1, IMG_ROW, IMG_COL, 1)\n",
    "y_train = np.array([x[1] for x in train_data])\n",
    "\n",
    "X_test = np.array([x for x in test_data]).reshape(-1, IMG_ROW, IMG_COL, 1)\n",
    "\n",
    "if os.path.exists('metadata/model_1_2.h5'):\n",
    "    model = load_model('metadata/model_1_2.h5')\n",
    "    print('Found saved model on drive. Loaded.')\n",
    "\n",
    "else:\n",
    "    print('Building model.')    \n",
    "    model = Sequential()\n",
    "\n",
    "    model.add(Conv2D(16, input_shape=(IMG_ROW, IMG_COL, 1), kernel_size=(5,5), activation='relu'))\n",
    "    model.add(Conv2D(32, kernel_size=(5,5), activation='relu'))\n",
    "    model.add(MaxPooling2D(pool_size=2))\n",
    "    model.add(Conv2D(64, kernel_size=(5,5), activation='relu'))\n",
    "    \n",
    "    model.add(Flatten())\n",
    "   # model.add(Dense(100, activation='tanh'))\n",
    "    \n",
    "    model.add(Dense(50, activation='tanh'))\n",
    "    model.add(Dropout(0.2))\n",
    "    model.add(Dense(1, activation='sigmoid'))\n",
    "    \n",
    "    print('Compiling model.')\n",
    "    model.compile(loss='binary_crossentropy', optimizer=Adam(), metrics=['accuracy'])\n",
    "    \n",
    "print('You may proceed!')"
   ]
  },
  {
   "cell_type": "code",
   "execution_count": null,
   "metadata": {},
   "outputs": [
    {
     "name": "stdout",
     "output_type": "stream",
     "text": [
      "Fitting Model. Please Wait.\n",
      "Epoch 1/5\n"
     ]
    }
   ],
   "source": [
    "# Fitting the model\n",
    "\n",
    "print('Fitting Model. Please Wait.')\n",
    "model.fit(X_train, y_train, batch_size=2, epochs=5, verbose=1)\n",
    "\n",
    "print('Model Fitting Finished.')\n",
    "\n",
    "model.save('metadata/model_1_2.h5')\n",
    "print('Model Saved.')\n",
    "print('You may proceed!')"
   ]
  },
  {
   "cell_type": "code",
   "execution_count": 18,
   "metadata": {},
   "outputs": [
    {
     "name": "stdout",
     "output_type": "stream",
     "text": [
      "Authenticity predicted : \n",
      "img 2019-08-18 14-51-16.png : 99.977 %\n",
      "img 2019-10-02 13-19-34.png : 99.977 %\n",
      "img 2019-10-14 12-41-06.png : 0.132 %\n",
      "img 2019-10-14 12-50-46.png : 93.336 %\n",
      "img 2019-10-14 15-29-59.png : 28.555 %\n",
      "img 2019-10-15 18-41-59.png : 99.977 %\n",
      "img 2019-10-15 19-01-33.png : 99.978 %\n",
      "img 2019-10-28 17-27-02.png : 0.022 %\n",
      "img 2019-10-28 17-39-32.png : 0.025 %\n",
      "img 2019-10-28 20-33-37.png : 0.024 %\n",
      "img 2019-10-28 20-35-54.png : 0.022 %\n"
     ]
    }
   ],
   "source": [
    "output = model.predict(X_test)\n",
    "\n",
    "print('Authenticity predicted : ')\n",
    "for i in range(len(output)):\n",
    "    print(imgname[i], \": %.3f %%\" % (output[i]*100))"
   ]
  }
 ],
 "metadata": {
  "kernelspec": {
   "display_name": "Python 3",
   "language": "python",
   "name": "python3"
  },
  "language_info": {
   "codemirror_mode": {
    "name": "ipython",
    "version": 3
   },
   "file_extension": ".py",
   "mimetype": "text/x-python",
   "name": "python",
   "nbconvert_exporter": "python",
   "pygments_lexer": "ipython3",
   "version": "3.6.10"
  }
 },
 "nbformat": 4,
 "nbformat_minor": 4
}
